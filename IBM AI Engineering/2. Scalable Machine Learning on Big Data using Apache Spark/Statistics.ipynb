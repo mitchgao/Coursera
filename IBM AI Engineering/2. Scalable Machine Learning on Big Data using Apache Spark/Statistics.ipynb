{
 "cells": [
  {
   "cell_type": "markdown",
   "metadata": {
    "collapsed": true
   },
   "source": [
    "Welcome to exercise one of week two of “Apache Spark for Scalable Machine Learning on BigData”. In this exercise you’ll read a DataFrame in order to perform a simple statistical analysis. Then you’ll rebalance the dataset. No worries, we’ll explain everything to you, let’s get started.\n",
    "\n",
    "Let’s create a data frame from a remote file by downloading it:\n",
    "\n",
    "\n"
   ]
  },
  {
   "cell_type": "code",
   "execution_count": 1,
   "metadata": {},
   "outputs": [
    {
     "name": "stdout",
     "output_type": "stream",
     "text": [
      "Waiting for a Spark session to start...\n",
      "Spark Initialization Done! ApplicationId = app-20190908183214-0000\n",
      "KERNEL_ID = c2f32a9c-f951-4617-8bca-1022063ca18c\n",
      "--2019-09-08 18:32:17--  https://github.com/IBM/coursera/raw/master/hmp.parquet\n",
      "Resolving github.com (github.com)... 140.82.114.4\n",
      "Connecting to github.com (github.com)|140.82.114.4|:443... connected.\n",
      "HTTP request sent, awaiting response... 302 Found\n",
      "Location: https://raw.githubusercontent.com/IBM/coursera/master/hmp.parquet [following]\n",
      "--2019-09-08 18:32:22--  https://raw.githubusercontent.com/IBM/coursera/master/hmp.parquet\n",
      "Resolving raw.githubusercontent.com (raw.githubusercontent.com)... 199.232.8.133\n",
      "Connecting to raw.githubusercontent.com (raw.githubusercontent.com)|199.232.8.133|:443... connected.\n",
      "HTTP request sent, awaiting response... 200 OK\n",
      "Length: 932997 (911K) [application/octet-stream]\n",
      "Saving to: 'hmp.parquet'\n",
      "\n",
      "hmp.parquet         100%[===================>] 911.13K  1.17MB/s    in 0.8s    \n",
      "\n",
      "2019-09-08 18:32:24 (1.17 MB/s) - 'hmp.parquet' saved [932997/932997]\n",
      "\n"
     ]
    }
   ],
   "source": [
    "# delete files from previous runs\n",
    "!rm -f hmp.parquet*\n",
    "\n",
    "# download the file containing the data in PARQUET format\n",
    "!wget https://github.com/IBM/coursera/raw/master/hmp.parquet\n",
    "    \n",
    "# create a dataframe out of it\n",
    "df = spark.read.parquet('hmp.parquet')\n",
    "\n",
    "# register a corresponding query table\n",
    "df.createOrReplaceTempView('df')"
   ]
  },
  {
   "cell_type": "markdown",
   "metadata": {},
   "source": [
    "Let’s have a look at the data set first. This dataset contains sensor recordings from different movement activities as we will see in the next week’s lectures. X, Y and Z contain accelerometer sensor values whereas the class field contains information about which movement has been recorded. The source field is optional and can be used for data lineage since it contains the file name of the original file where the particular row was importat from.\n",
    "\n",
    "More details on the data set can be found here:\n",
    "https://github.com/wchill/HMP_Dataset\n"
   ]
  },
  {
   "cell_type": "code",
   "execution_count": 2,
   "metadata": {},
   "outputs": [
    {
     "name": "stdout",
     "output_type": "stream",
     "text": [
      "+---+---+---+--------------------+-----------+\n",
      "|  x|  y|  z|              source|      class|\n",
      "+---+---+---+--------------------+-----------+\n",
      "| 22| 49| 35|Accelerometer-201...|Brush_teeth|\n",
      "| 22| 49| 35|Accelerometer-201...|Brush_teeth|\n",
      "| 22| 52| 35|Accelerometer-201...|Brush_teeth|\n",
      "| 22| 52| 35|Accelerometer-201...|Brush_teeth|\n",
      "| 21| 52| 34|Accelerometer-201...|Brush_teeth|\n",
      "| 22| 51| 34|Accelerometer-201...|Brush_teeth|\n",
      "| 20| 50| 35|Accelerometer-201...|Brush_teeth|\n",
      "| 22| 52| 34|Accelerometer-201...|Brush_teeth|\n",
      "| 22| 50| 34|Accelerometer-201...|Brush_teeth|\n",
      "| 22| 51| 35|Accelerometer-201...|Brush_teeth|\n",
      "| 21| 51| 33|Accelerometer-201...|Brush_teeth|\n",
      "| 20| 50| 34|Accelerometer-201...|Brush_teeth|\n",
      "| 21| 49| 33|Accelerometer-201...|Brush_teeth|\n",
      "| 21| 49| 33|Accelerometer-201...|Brush_teeth|\n",
      "| 20| 51| 35|Accelerometer-201...|Brush_teeth|\n",
      "| 18| 49| 34|Accelerometer-201...|Brush_teeth|\n",
      "| 19| 48| 34|Accelerometer-201...|Brush_teeth|\n",
      "| 16| 53| 34|Accelerometer-201...|Brush_teeth|\n",
      "| 18| 52| 35|Accelerometer-201...|Brush_teeth|\n",
      "| 18| 51| 32|Accelerometer-201...|Brush_teeth|\n",
      "+---+---+---+--------------------+-----------+\n",
      "only showing top 20 rows\n",
      "\n",
      "root\n",
      " |-- x: integer (nullable = true)\n",
      " |-- y: integer (nullable = true)\n",
      " |-- z: integer (nullable = true)\n",
      " |-- source: string (nullable = true)\n",
      " |-- class: string (nullable = true)\n",
      "\n"
     ]
    }
   ],
   "source": [
    "df.show()\n",
    "df.printSchema()"
   ]
  },
  {
   "cell_type": "markdown",
   "metadata": {},
   "source": [
    "This is a classical classification data set. One thing we always do during data analysis is checking if the classes are balanced. In other words, if there are more or less the same number of example in each class. Let’s find out by a simple aggregation using SQL."
   ]
  },
  {
   "cell_type": "code",
   "execution_count": 3,
   "metadata": {},
   "outputs": [
    {
     "name": "stdout",
     "output_type": "stream",
     "text": [
      "+--------------+--------+\n",
      "|         class|count(1)|\n",
      "+--------------+--------+\n",
      "| Use_telephone|   15225|\n",
      "| Standup_chair|   25417|\n",
      "|      Eat_meat|   31236|\n",
      "|     Getup_bed|   45801|\n",
      "|   Drink_glass|   42792|\n",
      "|    Pour_water|   41673|\n",
      "|     Comb_hair|   23504|\n",
      "|          Walk|   92254|\n",
      "|  Climb_stairs|   40258|\n",
      "| Sitdown_chair|   25036|\n",
      "|   Liedown_bed|   11446|\n",
      "|Descend_stairs|   15375|\n",
      "|   Brush_teeth|   29829|\n",
      "|      Eat_soup|    6683|\n",
      "+--------------+--------+\n",
      "\n"
     ]
    }
   ],
   "source": [
    "spark.sql('select class,count(*) from df group by class').show()"
   ]
  },
  {
   "cell_type": "markdown",
   "metadata": {},
   "source": [
    "As you can see there is quite an imbalance between classes. Before we dig into this, let’s re-write the same query using the DataFrame API – just in case you are not familiar with SQL. As we’ve learned before, it doesn’t matter if you express your queries with SQL or the DataFrame API – it all gets boiled down into the same execution plan optimized by Tungsten and accelerated by Catalyst. You can even mix and match SQL and DataFrame API code if you like.\n",
    "\n",
    "Again, more details on the API can be found here:\n",
    "https://spark.apache.org/docs/latest/api/python/pyspark.sql.html#pyspark.sql.DataFrame\n"
   ]
  },
  {
   "cell_type": "code",
   "execution_count": 4,
   "metadata": {},
   "outputs": [
    {
     "name": "stdout",
     "output_type": "stream",
     "text": [
      "+--------------+-----+\n",
      "|         class|count|\n",
      "+--------------+-----+\n",
      "| Use_telephone|15225|\n",
      "| Standup_chair|25417|\n",
      "|      Eat_meat|31236|\n",
      "|     Getup_bed|45801|\n",
      "|   Drink_glass|42792|\n",
      "|    Pour_water|41673|\n",
      "|     Comb_hair|23504|\n",
      "|          Walk|92254|\n",
      "|  Climb_stairs|40258|\n",
      "| Sitdown_chair|25036|\n",
      "|   Liedown_bed|11446|\n",
      "|Descend_stairs|15375|\n",
      "|   Brush_teeth|29829|\n",
      "|      Eat_soup| 6683|\n",
      "+--------------+-----+\n",
      "\n"
     ]
    }
   ],
   "source": [
    "df.groupBy('class').count().show()"
   ]
  },
  {
   "cell_type": "markdown",
   "metadata": {},
   "source": [
    "Let’s create a bar plot from this data. We’re using the pixidust library, which is Open Source, because of its simplicity. But any other library like matplotlib is fine as well. "
   ]
  },
  {
   "cell_type": "code",
   "execution_count": 5,
   "metadata": {
    "pixiedust": {
     "displayParams": {
      "handlerId": "barChart",
      "keyFields": "class",
      "legend": "true",
      "mpld3": "false",
      "orientation": "horizontal",
      "rendererId": "matplotlib",
      "sortby": "Values ASC",
      "valueFields": "count"
     }
    }
   },
   "outputs": [
    {
     "data": {
      "text/html": [
       "<style type=\"text/css\">.pd_warning{display:none;}</style><div class=\"pd_warning\"><em>Hey, there's something awesome here! To see it, open this notebook outside GitHub, in a viewer like Jupyter</em></div>\n",
       "        <div class=\"pd_save is-viewer-good\" style=\"padding-right:10px;text-align: center;line-height:initial !important;font-size: xx-large;font-weight: 500;color: coral;\">\n",
       "            \n",
       "        </div>\n",
       "    <div id=\"chartFigure8504d4a3\" class=\"pd_save is-viewer-good\" style=\"overflow-x:auto\">\n",
       "            \n",
       "                    \n",
       "                            <center><img style=\"max-width:initial !important\" src=\"data:image/png;base64,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\" class=\"pd_save\"></center>\n",
       "                        \n",
       "                    \n",
       "                \n",
       "        </div>"
      ],
      "text/plain": [
       "<IPython.core.display.HTML object>"
      ]
     },
     "metadata": {},
     "output_type": "display_data"
    }
   ],
   "source": [
    "import pixiedust\n",
    "from pyspark.sql.functions import col\n",
    "counts = df.groupBy('class').count().orderBy('count')\n",
    "display(counts)"
   ]
  },
  {
   "cell_type": "markdown",
   "metadata": {},
   "source": [
    "This looks nice, but it would be nice if we can aggregate further to obtain some quantitative metrics on the imbalance like, min, max, mean and standard deviation. If we divide max by min we get a measure called minmax ration which tells us something about the relationship between the smallest and largest class. Again, let’s first use SQL for those of you familiar with SQL. Don’t be scared, we’re used nested sub-selects, basically selecting from a result of a SQL query like it was a table. All within on SQL statement."
   ]
  },
  {
   "cell_type": "code",
   "execution_count": 6,
   "metadata": {},
   "outputs": [
    {
     "name": "stdout",
     "output_type": "stream",
     "text": [
      "+----+-----+------------------+------------------+-----------------+\n",
      "| min|  max|              mean|            stddev|      minmaxratio|\n",
      "+----+-----+------------------+------------------+-----------------+\n",
      "|6683|92254|31894.928571428572|21284.893716741157|13.80427951518779|\n",
      "+----+-----+------------------+------------------+-----------------+\n",
      "\n"
     ]
    }
   ],
   "source": [
    "spark.sql('''\n",
    "    select \n",
    "        *,\n",
    "        max/min as minmaxratio -- compute minmaxratio based on previously computed values\n",
    "        from (\n",
    "            select \n",
    "                min(ct) as min, -- compute minimum value of all classes\n",
    "                max(ct) as max, -- compute maximum value of all classes\n",
    "                mean(ct) as mean, -- compute mean between all classes\n",
    "                stddev(ct) as stddev -- compute standard deviation between all classes\n",
    "                from (\n",
    "                    select\n",
    "                        count(*) as ct -- count the number of rows per class and rename it to ct\n",
    "                        from df -- access the temporary query table called df backed by DataFrame df\n",
    "                        group by class -- aggrecate over class\n",
    "                )\n",
    "        )   \n",
    "''').show()"
   ]
  },
  {
   "cell_type": "markdown",
   "metadata": {},
   "source": [
    "The same query can be expressed using the DataFrame API. Again, don’t be scared. It’s just a sequential expression of transformation steps. You now an choose which syntax you like better."
   ]
  },
  {
   "cell_type": "code",
   "execution_count": 7,
   "metadata": {},
   "outputs": [
    {
     "name": "stdout",
     "output_type": "stream",
     "text": [
      "+----+-----+------------------+------------------+-----------------+\n",
      "| min|  max|              mean|            stddev|      minmaxratio|\n",
      "+----+-----+------------------+------------------+-----------------+\n",
      "|6683|92254|31894.928571428572|21284.893716741157|13.80427951518779|\n",
      "+----+-----+------------------+------------------+-----------------+\n",
      "\n"
     ]
    }
   ],
   "source": [
    "from pyspark.sql.functions import col, min, max, mean, stddev\n",
    "\n",
    "df \\\n",
    "    .groupBy('class') \\\n",
    "    .count() \\\n",
    "    .select([ \n",
    "        min(col(\"count\")).alias('min'), \n",
    "        max(col(\"count\")).alias('max'), \n",
    "        mean(col(\"count\")).alias('mean'), \n",
    "        stddev(col(\"count\")).alias('stddev') \n",
    "    ]) \\\n",
    "    .select([\n",
    "        col('*'),\n",
    "        (col(\"max\") / col(\"min\")).alias('minmaxratio')\n",
    "    ]) \\\n",
    "    .show()\n"
   ]
  },
  {
   "cell_type": "markdown",
   "metadata": {},
   "source": [
    "Now it’s time for you to work on the data set. First, please create a table of all classes with the respective counts, but this time, please order the table by the count number, ascending."
   ]
  },
  {
   "cell_type": "code",
   "execution_count": 9,
   "metadata": {},
   "outputs": [
    {
     "name": "stdout",
     "output_type": "stream",
     "text": [
      "+--------------+--------+\n",
      "|         class|count(1)|\n",
      "+--------------+--------+\n",
      "|      Eat_soup|    6683|\n",
      "|   Liedown_bed|   11446|\n",
      "| Use_telephone|   15225|\n",
      "|Descend_stairs|   15375|\n",
      "|     Comb_hair|   23504|\n",
      "| Sitdown_chair|   25036|\n",
      "| Standup_chair|   25417|\n",
      "|   Brush_teeth|   29829|\n",
      "|      Eat_meat|   31236|\n",
      "|  Climb_stairs|   40258|\n",
      "|    Pour_water|   41673|\n",
      "|   Drink_glass|   42792|\n",
      "|     Getup_bed|   45801|\n",
      "|          Walk|   92254|\n",
      "+--------------+--------+\n",
      "\n"
     ]
    }
   ],
   "source": [
    "#your code goes here\n",
    "spark.sql('select class,count(*) from df group by class order by count(*) asc').show()"
   ]
  },
  {
   "cell_type": "markdown",
   "metadata": {},
   "source": [
    "Pixiedust is a very sophisticated library. It takes care of sorting as well. Please modify the bar chart so that it gets sorted by the number of elements per class, ascending. Hint: It’s an option available in the UI once rendered using the display() function."
   ]
  },
  {
   "cell_type": "code",
   "execution_count": null,
   "metadata": {
    "pixiedust": {
     "displayParams": {
      "handlerId": "tableView"
     }
    }
   },
   "outputs": [
    {
     "data": {
      "text/html": [
       "<style type=\"text/css\">.pd_warning{display:none;}</style><div class=\"pd_warning\"><em>Hey, there's something awesome here! To see it, open this notebook outside GitHub, in a viewer like Jupyter</em></div>\n",
       "        <div class=\"pd_save is-viewer-good\" style=\"padding-right:10px;text-align: center;line-height:initial !important;font-size: xx-large;font-weight: 500;color: coral;\">\n",
       "            \n",
       "        </div>\n",
       "    <div id=\"chartFigureae8b3989\" class=\"pd_save is-viewer-good\" style=\"overflow-x:auto\">\n",
       "            <style type=\"text/css\" class=\"pd_save\">\n",
       "    .df-table-wrapper .panel-heading {\n",
       "      border-radius: 0;\n",
       "      padding: 0px;\n",
       "    }\n",
       "    .df-table-wrapper .panel-heading:hover {\n",
       "      border-color: #008571;\n",
       "    }\n",
       "    .df-table-wrapper .panel-title a {\n",
       "      background-color: #f9f9fb;\n",
       "      color: #333333;\n",
       "      display: block;\n",
       "      outline: none;\n",
       "      padding: 10px 15px;\n",
       "      text-decoration: none;\n",
       "    }\n",
       "    .df-table-wrapper .panel-title a:hover {\n",
       "      background-color: #337ab7;\n",
       "      border-color: #2e6da4;\n",
       "      color: #ffffff;\n",
       "      display: block;\n",
       "      padding: 10px 15px;\n",
       "      text-decoration: none;\n",
       "    }\n",
       "    .df-table-wrapper {\n",
       "      font-size: small;\n",
       "      font-weight: 300;\n",
       "      letter-spacing: 0.5px;\n",
       "      line-height: normal;\n",
       "      height: inherit;\n",
       "      overflow: auto;\n",
       "    }\n",
       "    .df-table-search {\n",
       "      margin: 0 0 20px 0;\n",
       "    }\n",
       "    .df-table-search-count {\n",
       "      display: inline-block;\n",
       "      margin: 0 0 20px 0;\n",
       "    }\n",
       "    .df-table-container {\n",
       "      max-height: 50vh;\n",
       "      max-width: 100%;\n",
       "      overflow-x: auto;\n",
       "      position: relative;\n",
       "    }\n",
       "    .df-table-wrapper table {\n",
       "      border: 0 none #ffffff;\n",
       "      border-collapse: collapse;\n",
       "      margin: 0;\n",
       "      min-width: 100%;\n",
       "      padding: 0;\n",
       "      table-layout: fixed;\n",
       "      height: inherit;\n",
       "      overflow: auto;\n",
       "    }\n",
       "    .df-table-wrapper tr.hidden {\n",
       "      display: none;\n",
       "    }\n",
       "    .df-table-wrapper tr:nth-child(even) {\n",
       "      background-color: #f9f9fb;\n",
       "    }\n",
       "    .df-table-wrapper tr.even {\n",
       "      background-color: #f9f9fb;\n",
       "    }\n",
       "    .df-table-wrapper tr.odd {\n",
       "      background-color: #ffffff;\n",
       "    }\n",
       "    .df-table-wrapper td + td {\n",
       "      border-left: 1px solid #e0e0e0;\n",
       "    }\n",
       "  \n",
       "    .df-table-wrapper thead,\n",
       "    .fixed-header {\n",
       "      font-weight: 600;\n",
       "    }\n",
       "    .df-table-wrapper tr,\n",
       "    .fixed-row {\n",
       "      border: 0 none #ffffff;\n",
       "      margin: 0;\n",
       "      padding: 0;\n",
       "    }\n",
       "    .df-table-wrapper th,\n",
       "    .df-table-wrapper td,\n",
       "    .fixed-cell {\n",
       "      border: 0 none #ffffff;\n",
       "      margin: 0;\n",
       "      min-width: 50px;\n",
       "      padding: 5px 20px 5px 10px;\n",
       "      text-align: left;\n",
       "      word-wrap: break-word;\n",
       "    }\n",
       "    .df-table-wrapper th {\n",
       "      padding-bottom: 0;\n",
       "      padding-top: 0;\n",
       "    }\n",
       "    .df-table-wrapper th div {\n",
       "      max-height: 1px;\n",
       "      visibility: hidden;\n",
       "    }\n",
       "  \n",
       "    .df-schema-field {\n",
       "      margin-left: 10px;\n",
       "    }\n",
       "  \n",
       "    .fixed-header-container {\n",
       "      overflow: hidden;\n",
       "      position: relative;\n",
       "    }\n",
       "    .fixed-header {\n",
       "      border-bottom: 2px solid #000;\n",
       "      display: table;\n",
       "      position: relative;\n",
       "    }\n",
       "    .fixed-row {\n",
       "      display: table-row;\n",
       "    }\n",
       "    .fixed-cell {\n",
       "      display: table-cell;\n",
       "    }\n",
       "  </style>\n",
       "  \n",
       "  \n",
       "  <div class=\"df-table-wrapper df-table-wrapper-ae8b3989 panel-group pd_save\">\n",
       "    <!-- dataframe schema -->\n",
       "    \n",
       "    <div class=\"panel panel-default\">\n",
       "      <div class=\"panel-heading\">\n",
       "        <h4 class=\"panel-title\" style=\"margin: 0px;\">\n",
       "          <a data-toggle=\"collapse\" href=\"#df-schema-ae8b3989\" data-parent=\"#df-table-wrapper-ae8b3989\">Schema</a>\n",
       "        </h4>\n",
       "      </div>\n",
       "      <div id=\"df-schema-ae8b3989\" class=\"panel-collapse collapse\">\n",
       "        <div class=\"panel-body\" style=\"font-family: monospace;\">\n",
       "          <div class=\"df-schema-fields\">\n",
       "            <div>Field types:</div>\n",
       "            \n",
       "              <div class=\"df-schema-field\"><strong>class: </strong> object</div>\n",
       "            \n",
       "              <div class=\"df-schema-field\"><strong>count: </strong> int64</div>\n",
       "            \n",
       "          </div>\n",
       "        </div>\n",
       "      </div>\n",
       "    </div>\n",
       "    \n",
       "    <!-- dataframe table -->\n",
       "    <div class=\"panel panel-default\">\n",
       "      \n",
       "      <div class=\"panel-heading\">\n",
       "        <h4 class=\"panel-title\" style=\"margin: 0px;\">\n",
       "          <a data-toggle=\"collapse\" href=\"#df-table-ae8b3989\" data-parent=\"#df-table-wrapper-ae8b3989\"> Table</a>\n",
       "        </h4>\n",
       "      </div>\n",
       "      \n",
       "      <div id=\"df-table-ae8b3989\" class=\"panel-collapse collapse in\">\n",
       "        <div class=\"panel-body\">\n",
       "          \n",
       "          <input type=\"text\" class=\"df-table-search form-control input-sm\" placeholder=\"Search table\">\n",
       "          \n",
       "          <div>\n",
       "            \n",
       "            <span class=\"df-table-search-count\">Showing 14 of 14 rows</span>\n",
       "            \n",
       "          </div>\n",
       "          <!-- fixed header for when dataframe table scrolls -->\n",
       "          <div class=\"fixed-header-container\">\n",
       "            <div class=\"fixed-header\">\n",
       "              <div class=\"fixed-row\">\n",
       "                \n",
       "                <div class=\"fixed-cell\">class</div>\n",
       "                \n",
       "                <div class=\"fixed-cell\">count</div>\n",
       "                \n",
       "              </div>\n",
       "            </div>\n",
       "          </div>\n",
       "          <div class=\"df-table-container\">\n",
       "            <table class=\"df-table\">\n",
       "              <thead>\n",
       "                <tr>\n",
       "                  \n",
       "                  <th><div>class</div></th>\n",
       "                  \n",
       "                  <th><div>count</div></th>\n",
       "                  \n",
       "                </tr>\n",
       "              </thead>\n",
       "              <tbody>\n",
       "                \n",
       "                <tr>\n",
       "                  \n",
       "                  <td>Brush_teeth</td>\n",
       "                  \n",
       "                  <td>29829</td>\n",
       "                  \n",
       "                </tr>\n",
       "                \n",
       "                <tr>\n",
       "                  \n",
       "                  <td>Climb_stairs</td>\n",
       "                  \n",
       "                  <td>40258</td>\n",
       "                  \n",
       "                </tr>\n",
       "                \n",
       "                <tr>\n",
       "                  \n",
       "                  <td>Comb_hair</td>\n",
       "                  \n",
       "                  <td>23504</td>\n",
       "                  \n",
       "                </tr>\n",
       "                \n",
       "                <tr>\n",
       "                  \n",
       "                  <td>Descend_stairs</td>\n",
       "                  \n",
       "                  <td>15375</td>\n",
       "                  \n",
       "                </tr>\n",
       "                \n",
       "                <tr>\n",
       "                  \n",
       "                  <td>Drink_glass</td>\n",
       "                  \n",
       "                  <td>42792</td>\n",
       "                  \n",
       "                </tr>\n",
       "                \n",
       "                <tr>\n",
       "                  \n",
       "                  <td>Eat_meat</td>\n",
       "                  \n",
       "                  <td>31236</td>\n",
       "                  \n",
       "                </tr>\n",
       "                \n",
       "                <tr>\n",
       "                  \n",
       "                  <td>Eat_soup</td>\n",
       "                  \n",
       "                  <td>6683</td>\n",
       "                  \n",
       "                </tr>\n",
       "                \n",
       "                <tr>\n",
       "                  \n",
       "                  <td>Getup_bed</td>\n",
       "                  \n",
       "                  <td>45801</td>\n",
       "                  \n",
       "                </tr>\n",
       "                \n",
       "                <tr>\n",
       "                  \n",
       "                  <td>Liedown_bed</td>\n",
       "                  \n",
       "                  <td>11446</td>\n",
       "                  \n",
       "                </tr>\n",
       "                \n",
       "                <tr>\n",
       "                  \n",
       "                  <td>Pour_water</td>\n",
       "                  \n",
       "                  <td>41673</td>\n",
       "                  \n",
       "                </tr>\n",
       "                \n",
       "                <tr>\n",
       "                  \n",
       "                  <td>Sitdown_chair</td>\n",
       "                  \n",
       "                  <td>25036</td>\n",
       "                  \n",
       "                </tr>\n",
       "                \n",
       "                <tr>\n",
       "                  \n",
       "                  <td>Standup_chair</td>\n",
       "                  \n",
       "                  <td>25417</td>\n",
       "                  \n",
       "                </tr>\n",
       "                \n",
       "                <tr>\n",
       "                  \n",
       "                  <td>Use_telephone</td>\n",
       "                  \n",
       "                  <td>15225</td>\n",
       "                  \n",
       "                </tr>\n",
       "                \n",
       "                <tr>\n",
       "                  \n",
       "                  <td>Walk</td>\n",
       "                  \n",
       "                  <td>92254</td>\n",
       "                  \n",
       "                </tr>\n",
       "                \n",
       "              </tbody>\n",
       "            </table>\n",
       "          </div>\n",
       "        </div>\n",
       "      </div>\n",
       "    </div>\n",
       "  </div>\n",
       "  \n",
       "  <script class=\"pd_save\">\n",
       "    $(function() {\n",
       "      var tableWrapper = $('.df-table-wrapper-ae8b3989');\n",
       "      var fixedHeader = $('.fixed-header', tableWrapper);\n",
       "      var tableContainer = $('.df-table-container', tableWrapper);\n",
       "      var table = $('.df-table', tableContainer);\n",
       "      var rows = $('tbody > tr', table);\n",
       "      var total = 14;\n",
       "  \n",
       "      fixedHeader\n",
       "        .css('width', table.width())\n",
       "        .find('.fixed-cell')\n",
       "        .each(function(i, e) {\n",
       "          $(this).css('width', $('.df-table-wrapper-ae8b3989 th:nth-child(' + (i+1) + ')').css('width'));\n",
       "        });\n",
       "  \n",
       "      tableContainer.scroll(function() {\n",
       "        fixedHeader.css({ left: table.position().left });\n",
       "      });\n",
       "  \n",
       "      rows.on(\"click\", function(e){\n",
       "          var txt = e.delegateTarget.innerText;\n",
       "          var splits = txt.split(\"\\t\");\n",
       "          var len = splits.length;\n",
       "          var hdrs = $(fixedHeader).find(\".fixed-cell\");\n",
       "          // Add all cells in the selected row as a map to be consumed by the target as needed\n",
       "          var payload = {type:\"select\", targetDivId: \"\" };\n",
       "          for (var i = 0; i < len; i++) {\n",
       "            payload[hdrs[i].innerHTML] = splits[i];\n",
       "          }\n",
       "  \n",
       "          //simple selection highlighting, client adds \"selected\" class\n",
       "          $(this).addClass(\"selected\").siblings().removeClass(\"selected\");\n",
       "          $(document).trigger('pd_event', payload);\n",
       "      });\n",
       "  \n",
       "      $('.df-table-search', tableWrapper).keyup(function() {\n",
       "        var val = '^(?=.*\\\\b' + $.trim($(this).val()).split(/\\s+/).join('\\\\b)(?=.*\\\\b') + ').*$';\n",
       "        var reg = RegExp(val, 'i');\n",
       "        var index = 0;\n",
       "        \n",
       "        rows.each(function(i, e) {\n",
       "          if (!reg.test($(this).text().replace(/\\s+/g, ' '))) {\n",
       "            $(this).attr('class', 'hidden');\n",
       "          }\n",
       "          else {\n",
       "            $(this).attr('class', (++index % 2 == 0 ? 'even' : 'odd'));\n",
       "          }\n",
       "        });\n",
       "        $('.df-table-search-count', tableWrapper).html('Showing ' + index + ' of ' + total + ' rows');\n",
       "      });\n",
       "    });\n",
       "  \n",
       "    $(\".df-table-wrapper td:contains('http://')\").each(function(){var tc = this.textContent; $(this).wrapInner(\"<a target='_blank' href='\" + tc + \"'></a>\");});\n",
       "    $(\".df-table-wrapper td:contains('https://')\").each(function(){var tc = this.textContent; $(this).wrapInner(\"<a target='_blank' href='\" + tc + \"'></a>\");});\n",
       "  </script>\n",
       "  \n",
       "        </div>"
      ],
      "text/plain": [
       "<IPython.core.display.HTML object>"
      ]
     },
     "metadata": {},
     "output_type": "display_data"
    }
   ],
   "source": [
    "#your code goes here\n",
    "import pixiedust\n",
    "from pyspark.sql.functions import col\n",
    "counts = df.groupBy('class').count().orderBy('count').sort('class')\n",
    "display(counts)"
   ]
  },
  {
   "cell_type": "markdown",
   "metadata": {},
   "source": [
    "Imbalanced classes can cause pain in machine learning. Therefore let’s rebalance. In the flowing we limit the number of elements per class to the amount of the least represented class. This is called undersampling. Other ways of rebalancing can be found here:\n",
    "\n",
    "https://machinelearningmastery.com/tactics-to-combat-imbalanced-classes-in-your-machine-learning-dataset/"
   ]
  },
  {
   "cell_type": "code",
   "execution_count": 12,
   "metadata": {},
   "outputs": [],
   "source": [
    "from pyspark.sql.functions import min\n",
    "\n",
    "# create a lot of distinct classes from the dataset\n",
    "classes = [row[0] for row in df.select('class').distinct().collect()]\n",
    "\n",
    "# compute the number of elements of the smallest class in order to limit the number of samples per calss\n",
    "min = df.groupBy('class').count().select(min('count')).first()[0]\n",
    "\n",
    "# define the result dataframe variable\n",
    "df_balanced = None\n",
    "\n",
    "# iterate over distinct classes\n",
    "for cls in classes:\n",
    "    \n",
    "    # only select examples for the specific class within this iteration\n",
    "    # shuffle the order of the elements (by setting fraction to 1.0 sample works like shuffle)\n",
    "    # return only the first n samples\n",
    "    df_temp = df \\\n",
    "        .filter(\"class = '\"+cls+\"'\") \\\n",
    "        .sample(False, 1.0) \\\n",
    "        .limit(min)\n",
    "    \n",
    "    # on first iteration, assing df_temp to empty df_balanced\n",
    "    if df_balanced == None:    \n",
    "        df_balanced = df_temp\n",
    "    # afterwards, append vertically\n",
    "    else:\n",
    "        df_balanced=df_balanced.union(df_temp)"
   ]
  },
  {
   "cell_type": "markdown",
   "metadata": {},
   "source": [
    "Please verify, by using the code cell below, if df_balanced has the same number of elements per class. You should get 6683 elements per class."
   ]
  },
  {
   "cell_type": "code",
   "execution_count": 15,
   "metadata": {},
   "outputs": [
    {
     "data": {
      "text/plain": [
       "False"
      ]
     },
     "execution_count": 15,
     "metadata": {},
     "output_type": "execute_result"
    }
   ],
   "source": [
    "df_balanced == counts"
   ]
  }
 ],
 "metadata": {
  "kernelspec": {
   "display_name": "Python 3.6 with Spark",
   "language": "python3",
   "name": "python36"
  },
  "language_info": {
   "codemirror_mode": {
    "name": "ipython",
    "version": 3
   },
   "file_extension": ".py",
   "mimetype": "text/x-python",
   "name": "python",
   "nbconvert_exporter": "python",
   "pygments_lexer": "ipython3",
   "version": "3.6.8"
  }
 },
 "nbformat": 4,
 "nbformat_minor": 1
}
