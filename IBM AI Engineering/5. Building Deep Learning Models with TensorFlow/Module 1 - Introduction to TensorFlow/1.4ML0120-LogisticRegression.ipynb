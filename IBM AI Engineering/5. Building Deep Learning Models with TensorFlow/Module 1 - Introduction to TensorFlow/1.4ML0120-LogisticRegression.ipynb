{
 "cells": [
  {
   "cell_type": "markdown",
   "metadata": {},
   "source": [
    "# Logistic Regression"
   ]
  },
  {
   "cell_type": "markdown",
   "metadata": {},
   "source": [
    "<div class=\"alert alert-success alertsuccess\" style=\"margin-top: 20px\">\n",
    "<font size = 3><strong>Recall linear regression:</strong></font>\n",
    "<br>\n",
    "<br>\n",
    "Linear regression finds a function that relates a continuous dependent variable, _y_, to some predictors (independent variables _x1_, _x2_, etc.). Simple linear regression assumes a function of the form:\n",
    "<br><br>\n",
    "$$\n",
    "y = w0 + w1 * x1 + w2 * x2 +...\n",
    "$$\n",
    "<br>\n",
    "and finds the values of _w0_, _w1_, _w2_, etc. The term _w0_ is the \"intercept\" or \"constant term\" (it's shown as _b_ in the formula below):\n",
    "<br><br>\n",
    "$$\n",
    "Y = WX + b\n",
    "$$\n",
    "<p></p>\n",
    "\n",
    "</div>\n",
    "\n",
    "Despite the name logistic _regression_, it is actually a __probabilistic classification__ model. Logistic regression fits a special s-shaped curve by taking the linear regression and transforming the numeric estimate into a probability with the following function:\n",
    "\n",
    "$$\n",
    "ProbabilityOfaClass = \\theta(y) = \\frac{e^y}{1+e^y} = exp(y) / (1+exp(y)) = p \n",
    "$$\n",
    "\n",
    "which produces p-values between 0 (as y approaches minus infinity) and 1 (as y approaches plus infinity). This now becomes a special kind of non-linear regression.\n",
    "\n",
    "In this equation, _y_ is the regression result (the sum of the variables weighted by the coefficients), `exp` is the exponential function and $\\theta(y)$ is the [logistic function](http://en.wikipedia.org/wiki/Logistic_function), also called logistic curve. It is a common \"S\" shape (sigmoid curve), and was first developed for modelling population growth.\n",
    "\n",
    "You might also have seen this function before, in another configuration:\n",
    "\n",
    "$$\n",
    "ProbabilityOfaClass = \\theta(y) = \\frac{1}{1+e^{-x}}\n",
    "$$\n",
    "\n",
    "So, briefly, Logistic Regression passes the input through the logistic/sigmoid but then treats the result as a probability:\n",
    "\n",
    "<img\n",
    "src=\"https://ibm.box.com/shared/static/kgv9alcghmjcv97op4d6onkyxevk23b1.png\", width = \"400\", align = \"center\">"
   ]
  },
  {
   "cell_type": "markdown",
   "metadata": {},
   "source": [
    "## Logistic Regression in TensorFlow"
   ]
  },
  {
   "cell_type": "code",
   "execution_count": 1,
   "metadata": {
    "collapsed": true
   },
   "outputs": [],
   "source": [
    "import tensorflow as tf\n",
    "import pandas as pd\n",
    "import numpy as np\n",
    "import time\n",
    "from sklearn.datasets import load_iris\n",
    "from sklearn.model_selection import train_test_split\n",
    "import matplotlib.pyplot as plt"
   ]
  },
  {
   "cell_type": "markdown",
   "metadata": {},
   "source": [
    "### Data\n",
    "\n",
    "Load the \"iris\" dataset.\n",
    "\n",
    "Separate into training and testing with a sklearn module."
   ]
  },
  {
   "cell_type": "code",
   "execution_count": 2,
   "metadata": {},
   "outputs": [
    {
     "name": "stdout",
     "output_type": "stream",
     "text": [
      "DATA SAMPLES:\n",
      "Train Sample:\n"
     ]
    },
    {
     "data": {
      "text/plain": [
       "[(array([ 5.7,  3. ,  4.2,  1.2]), array([0, 1, 0], dtype=uint8)),\n",
       " (array([ 6.5,  3. ,  5.8,  2.2]), array([0, 0, 1], dtype=uint8)),\n",
       " (array([ 5.6,  3. ,  4.5,  1.5]), array([0, 1, 0], dtype=uint8)),\n",
       " (array([ 5.1,  3.5,  1.4,  0.2]), array([1, 0, 0], dtype=uint8)),\n",
       " (array([ 6.9,  3.1,  5.1,  2.3]), array([0, 0, 1], dtype=uint8))]"
      ]
     },
     "execution_count": 2,
     "metadata": {},
     "output_type": "execute_result"
    }
   ],
   "source": [
    "iris = load_iris()\n",
    "iris_X = iris.data[:-1,:]\n",
    "iris_y = iris.target[:-1]\n",
    "'''\n",
    "pd.get_dummies(): Convert categorical variable into dummy/indicator variables\n",
    "'''\n",
    "iris_y = pd.get_dummies(iris_y).values # <- ONE HOT ENCODING\n",
    "\n",
    "#Train/Test split with Sklearn\n",
    "\n",
    "trainX, testX, trainY, testY = train_test_split(iris_X,iris_y,test_size=0.33,random_state=42)\n",
    "\n",
    "print('DATA SAMPLES:')\n",
    "print('Train Sample:')\n",
    "list(zip(trainX,trainY))[0:5]\n"
   ]
  },
  {
   "cell_type": "markdown",
   "metadata": {},
   "source": [
    "### Placeholders\n",
    "\n",
    "Now let's define \"x\" and \"y\". These placeholders will hold the iris data (features and labels). \n",
    "\n",
    "It can be considered as empty shells into which we insert data.\n",
    "\n",
    "It's needed to give them shapes which correspond to the shape of the data. Later, data will be inserted in the placeholders with the 'feed dict'.\n",
    "\n",
    "**Why placeholders?**\n",
    "\n",
    "1) Allows to create an algorithm which accepts data and knows something about the shape of the data without knowing the amoint of data going in.\n",
    "\n",
    "2) For \"batch\" training, it's easy to adjust how many examples we train on in a single step without changing the entire algorithm."
   ]
  },
  {
   "cell_type": "code",
   "execution_count": 3,
   "metadata": {},
   "outputs": [
    {
     "name": "stdout",
     "output_type": "stream",
     "text": [
      "Features:  (99, 4) => 99 observations x 4 features each observation\n",
      "Classes:  (99, 3) => 99 observations x 3 possible classes\n",
      "\n",
      "numFeatures: 4\n",
      "numLabels: 3\n"
     ]
    }
   ],
   "source": [
    "#NumFeatures: Number of features in the dataset (petal_width,petal_lenght,sepal_width,sepal_length => 4)\n",
    "print ('Features: ',trainX.shape,'=> 99 observations x 4 features each observation')\n",
    "numFeatures = trainX.shape[1]\n",
    "\n",
    "#NumLabels: Number of possible classes (setosa,virginica,versicolor => 3)\n",
    "print ('Classes: ',trainY.shape,'=> 99 observations x 3 possible classes')\n",
    "numLabels = trainY.shape[1]\n",
    "\n",
    "print('\\nnumFeatures: %d' % numFeatures)\n",
    "print('numLabels: %d' % numLabels)\n",
    "\n",
    "#Placeholders\n",
    "#'None' means: TF shouldn't expect a fixed number in that dimension --> Any number of observartions\n",
    "x = tf.placeholder(dtype=tf.float32, shape=[None,numFeatures],name='x') #Iris has 4 features, so X is a tensor to hold the data\n",
    "yGold = tf.placeholder(dtype=tf.float32,shape=[None,numLabels],name='yGold') #Iris has 3 classes, is a tensor to hold the correct classes\n",
    "\n"
   ]
  },
  {
   "cell_type": "markdown",
   "metadata": {
    "collapsed": true
   },
   "source": [
    "### Set model Weights and Bias\n",
    "\n",
    "We need a shared variable weight matrix and bias. We initialize both W and b as Tensors full of zeros. Since we are going to learn W and b, their initial values doesn't matter too much.\n",
    "\n",
    "These variables are the objects which define the structure of the model, they can be saved after they've trained and be reused later.\n",
    "\n",
    "**Shapes:**\n",
    "\n",
    "W has shape [4,3] because we want to:\n",
    "\n",
    "    -> Multiply the 4-dimensional input vector by it to produce 3-dimensional vectors of evidence for the possible classes.\n",
    "\n",
    "b has shape [3] so we can:\n",
    "\n",
    "    -> Add it to the output.\n"
   ]
  },
  {
   "attachments": {
    "Regression.png": {
     "image/png": "[encoded data removed]"
    }
   },
   "cell_type": "markdown",
   "metadata": {},
   "source": [
    "![Regression.png](attachment:Regression.png)"
   ]
  },
  {
   "cell_type": "code",
   "execution_count": 4,
   "metadata": {},
   "outputs": [],
   "source": [
    "#Shapes: Columns x Rows\n",
    "W = tf.Variable(tf.zeros(shape=[numFeatures,numLabels]),name='W') #Weights: 4 x 3\n",
    "b = tf.Variable(tf.zeros(shape=[numLabels]),name='b') #Bias: 3\n",
    "\n",
    "#Randomly sample from a normal distribution with standar deviation 0.01\n",
    "weights = tf.Variable(tf.random_normal(shape=[numFeatures,numLabels],\n",
    "                                       mean=0,\n",
    "                                       stddev=0.01,\n",
    "                                       name='weights'))\n",
    "\n",
    "bias = tf.Variable(tf.random_normal(shape=[1,numLabels],\n",
    "                                       mean=0,\n",
    "                                       stddev=0.01,\n",
    "                                       name='bias'))"
   ]
  },
  {
   "cell_type": "markdown",
   "metadata": {},
   "source": [
    "### Logistic Regression Model\n",
    "\n",
    "Define operations according to:\n",
    "\n",
    "$$\n",
    "ŷ =sigmoid(WX+b)\n",
    "$$\n",
    "\n",
    "However, it can be broken into:\n",
    "\n",
    " - a features * weight matrix multiplication operation\n",
    " - a summation of the weightened features and the bias term\n",
    " - the application of sigmoid"
   ]
  },
  {
   "cell_type": "code",
   "execution_count": 5,
   "metadata": {
    "collapsed": true
   },
   "outputs": [],
   "source": [
    "#1. a features * weight matrix multiplication operation \n",
    "apply_weights_OP = tf.matmul(x,weights,name='apply_weights')#SE UTILIZA LA DE NORMAL DIST\n",
    "\n",
    "#2. a summation of the weightened features and the bias term\n",
    "add_bias_OP = tf.add(apply_weights_OP,bias,name='add_bias')#SE UTILIZA LA DE NORMAL DIST\n",
    "\n",
    "#3. the application of sigmoid\n",
    "activation_OP = tf.nn.sigmoid(add_bias_OP,name='activation')"
   ]
  },
  {
   "cell_type": "markdown",
   "metadata": {},
   "source": [
    "Sigmoid fits the weight input with bias into a 0-100 percent curve, which is the probabilty function we want"
   ]
  },
  {
   "cell_type": "markdown",
   "metadata": {},
   "source": [
    "### Training \n",
    "\n",
    "The learning algorithm is how we search for the best weight vector (**W**). This search is an optimization problem looking for the hypothesis that optimizes an error/cost measure.\n",
    "\n",
    "**What tell us our model is bad?**\n",
    "\n",
    "The Cost or Loss of the model, so what we want is to minimize that\n",
    "\n",
    "**What is the cost function in our model?**\n",
    "\n",
    "The cost function we are going to use is the Squared Mean Error loss function\n",
    "\n",
    "**How to minimize the cost function?**\n",
    "\n",
    "With the Gradient Descent function"
   ]
  },
  {
   "cell_type": "markdown",
   "metadata": {},
   "source": [
    "#### Cost function\n",
    "\n",
    "Plus define the epochs and learning rate hyper params"
   ]
  },
  {
   "cell_type": "code",
   "execution_count": 23,
   "metadata": {
    "collapsed": true
   },
   "outputs": [],
   "source": [
    "numEpochs = 701\n",
    "\n",
    "#tf.exponential_decay: Applies exponential decay to the learning rate.\n",
    "learning_rate = tf.train.exponential_decay(learning_rate=0.0008,\n",
    "                                          global_step=1,\n",
    "                                          decay_steps=trainX.shape[0],\n",
    "                                           decay_rate=0.95,\n",
    "                                           staircase=True)"
   ]
  },
  {
   "cell_type": "code",
   "execution_count": 24,
   "metadata": {
    "collapsed": true
   },
   "outputs": [],
   "source": [
    "#Cost function\n",
    "cost_OP = tf.nn.l2_loss(activation_OP-yGold,name='squared_error_cost')\n",
    "\n",
    "#Gradient Descent\n",
    "training_OP = tf.train.GradientDescentOptimizer(learning_rate).minimize(cost_OP)"
   ]
  },
  {
   "cell_type": "markdown",
   "metadata": {},
   "source": [
    "#### Train\n",
    "\n",
    "Prediction phase"
   ]
  },
  {
   "cell_type": "code",
   "execution_count": 25,
   "metadata": {
    "collapsed": true
   },
   "outputs": [],
   "source": [
    "#Create session, initialize and run session\n",
    "sess = tf.Session()\n",
    "init_OP = tf.global_variables_initializer()\n",
    "sess.run(init_OP)"
   ]
  },
  {
   "cell_type": "markdown",
   "metadata": {},
   "source": [
    "Some additional operations to keep track of our model's efficiency over time\n",
    "\n",
    " - Accuracy over time (summary)\n",
    "     - Correct predictions\n",
    "     - Accuracy\n",
    " - Activation over time (summary)\n",
    " - Cost over time (summary)\n",
    " - Weight and Bias over time (summary)"
   ]
  },
  {
   "cell_type": "code",
   "execution_count": 26,
   "metadata": {
    "collapsed": true
   },
   "outputs": [],
   "source": [
    "#Summary OP for accuracy\n",
    "\n",
    "#argmax(activation_OP,1) returns the label with the most probability\n",
    "#argmax(yGold,1) return the correct label\n",
    "correct_predictions_OP = tf.equal(tf.argmax(activation_OP,1),tf.argmax(yGold,1))\n",
    "\n",
    "#If false predictions are 0 and correct predictions are 1 -> The average is the accuracy\n",
    "accuracy_OP = tf.reduce_mean(tf.cast(correct_predictions_OP,'float'))\n",
    "\n",
    "accuracy_summary_OP = tf.summary.scalar(\"accuracy\",accuracy_OP)\n",
    "\n",
    "\n",
    "#Summary OP for regression output\n",
    "activation_summary_OP = tf.summary.histogram(\"output\",activation_OP)\n",
    "\n",
    "#Summary OP for cost\n",
    "cost_summary_OP = tf.summary.scalar(\"cost\",cost_OP)\n",
    "\n",
    "#Summary OPs to chech how (Weight,bias) are updating after each iteration \n",
    "weightSummary = tf.summary.histogram(\"weights\",weights.eval(session=sess)) #SE USAN LOS DE LA NORMAL DIST\n",
    "biasSummary = tf.summary.histogram(\"bias\",bias.eval(session=sess)) #SE USAN LOS DE LA NORMAL DIST\n",
    "\n",
    "#MERGE ALL SUMMARIES\n",
    "merged = tf.summary.merge([activation_summary_OP,accuracy_summary_OP,cost_summary_OP,weightSummary,biasSummary])\n",
    "\n",
    "#Summary writer\n",
    "writer = tf.summary.FileWriter(\"summary_logs\",sess.graph)\n"
   ]
  },
  {
   "cell_type": "markdown",
   "metadata": {},
   "source": [
    "#### Training loop"
   ]
  },
  {
   "cell_type": "code",
   "execution_count": 27,
   "metadata": {},
   "outputs": [
    {
     "name": "stdout",
     "output_type": "stream",
     "text": [
      "At step 0, training accuracy 0.333333, cost 34.8778, change in cost 34.8778\n",
      "At step 10, training accuracy 0.50505, cost 30.2257, change in cost 4.65206\n",
      "At step 20, training accuracy 0.646465, cost 28.2781, change in cost 1.94756\n",
      "At step 30, training accuracy 0.646465, cost 26.6267, change in cost 1.65141\n",
      "At step 40, training accuracy 0.646465, cost 25.2498, change in cost 1.37696\n",
      "At step 50, training accuracy 0.646465, cost 24.1097, change in cost 1.14008\n",
      "At step 60, training accuracy 0.646465, cost 23.1648, change in cost 0.944864\n",
      "At step 70, training accuracy 0.646465, cost 22.3772, change in cost 0.787622\n",
      "At step 80, training accuracy 0.646465, cost 21.7151, change in cost 0.662106\n",
      "At step 90, training accuracy 0.646465, cost 21.1531, change in cost 0.561947\n",
      "At step 100, training accuracy 0.666667, cost 20.6714, change in cost 0.481716\n",
      "At step 110, training accuracy 0.666667, cost 20.2544, change in cost 0.416998\n",
      "At step 120, training accuracy 0.666667, cost 19.8901, change in cost 0.36438\n",
      "At step 130, training accuracy 0.666667, cost 19.5688, change in cost 0.321228\n",
      "At step 140, training accuracy 0.666667, cost 19.2833, change in cost 0.285542\n",
      "At step 150, training accuracy 0.666667, cost 19.0275, change in cost 0.25577\n",
      "At step 160, training accuracy 0.686869, cost 18.7968, change in cost 0.230728\n",
      "At step 170, training accuracy 0.686869, cost 18.5873, change in cost 0.209503\n",
      "At step 180, training accuracy 0.69697, cost 18.3959, change in cost 0.191383\n",
      "At step 190, training accuracy 0.707071, cost 18.2201, change in cost 0.175797\n",
      "At step 200, training accuracy 0.717172, cost 18.0578, change in cost 0.162298\n",
      "At step 210, training accuracy 0.737374, cost 17.9073, change in cost 0.150551\n",
      "At step 220, training accuracy 0.737374, cost 17.767, change in cost 0.140253\n",
      "At step 230, training accuracy 0.747475, cost 17.6358, change in cost 0.131174\n",
      "At step 240, training accuracy 0.757576, cost 17.5127, change in cost 0.123142\n",
      "At step 250, training accuracy 0.777778, cost 17.3967, change in cost 0.11599\n",
      "At step 260, training accuracy 0.787879, cost 17.2871, change in cost 0.109591\n",
      "At step 270, training accuracy 0.787879, cost 17.1833, change in cost 0.103842\n",
      "At step 280, training accuracy 0.787879, cost 17.0846, change in cost 0.0986557\n",
      "At step 290, training accuracy 0.787879, cost 16.9906, change in cost 0.0939693\n",
      "At step 300, training accuracy 0.79798, cost 16.9009, change in cost 0.0896988\n",
      "At step 310, training accuracy 0.79798, cost 16.8151, change in cost 0.0858002\n",
      "At step 320, training accuracy 0.79798, cost 16.7329, change in cost 0.0822411\n",
      "At step 330, training accuracy 0.79798, cost 16.6539, change in cost 0.078968\n",
      "At step 340, training accuracy 0.808081, cost 16.578, change in cost 0.0759506\n",
      "At step 350, training accuracy 0.828283, cost 16.5048, change in cost 0.0731659\n",
      "At step 360, training accuracy 0.828283, cost 16.4342, change in cost 0.0705833\n",
      "At step 370, training accuracy 0.838384, cost 16.366, change in cost 0.0681877\n",
      "At step 380, training accuracy 0.838384, cost 16.3001, change in cost 0.0659485\n",
      "At step 390, training accuracy 0.838384, cost 16.2362, change in cost 0.0638695\n",
      "At step 400, training accuracy 0.848485, cost 16.1743, change in cost 0.0619164\n",
      "At step 410, training accuracy 0.848485, cost 16.1142, change in cost 0.060091\n",
      "At step 420, training accuracy 0.848485, cost 16.0558, change in cost 0.0583706\n",
      "At step 430, training accuracy 0.848485, cost 15.9991, change in cost 0.0567532\n",
      "At step 440, training accuracy 0.858586, cost 15.9439, change in cost 0.0552254\n",
      "At step 450, training accuracy 0.868687, cost 15.8901, change in cost 0.0537853\n",
      "At step 460, training accuracy 0.878788, cost 15.8377, change in cost 0.0524178\n",
      "At step 470, training accuracy 0.878788, cost 15.7865, change in cost 0.0511227\n",
      "At step 480, training accuracy 0.878788, cost 15.7366, change in cost 0.0498915\n",
      "At step 490, training accuracy 0.878788, cost 15.6879, change in cost 0.0487242\n",
      "At step 500, training accuracy 0.878788, cost 15.6403, change in cost 0.0476084\n",
      "At step 510, training accuracy 0.878788, cost 15.5938, change in cost 0.046545\n",
      "At step 520, training accuracy 0.878788, cost 15.5482, change in cost 0.0455313\n",
      "At step 530, training accuracy 0.888889, cost 15.5037, change in cost 0.0445623\n",
      "At step 540, training accuracy 0.89899, cost 15.46, change in cost 0.0436296\n",
      "At step 550, training accuracy 0.89899, cost 15.4173, change in cost 0.0427418\n",
      "At step 560, training accuracy 0.89899, cost 15.3754, change in cost 0.0418863\n",
      "At step 570, training accuracy 0.89899, cost 15.3344, change in cost 0.0410662\n",
      "At step 580, training accuracy 0.89899, cost 15.2941, change in cost 0.0402756\n",
      "At step 590, training accuracy 0.909091, cost 15.2546, change in cost 0.0395164\n",
      "At step 600, training accuracy 0.909091, cost 15.2158, change in cost 0.0387859\n",
      "At step 610, training accuracy 0.909091, cost 15.1777, change in cost 0.0380802\n",
      "At step 620, training accuracy 0.909091, cost 15.1403, change in cost 0.0374002\n",
      "At step 630, training accuracy 0.909091, cost 15.1036, change in cost 0.0367413\n",
      "At step 640, training accuracy 0.909091, cost 15.0674, change in cost 0.036108\n",
      "At step 650, training accuracy 0.909091, cost 15.032, change in cost 0.0354929\n",
      "At step 660, training accuracy 0.909091, cost 14.9971, change in cost 0.0348988\n",
      "At step 670, training accuracy 0.909091, cost 14.9627, change in cost 0.0343227\n",
      "At step 680, training accuracy 0.909091, cost 14.929, change in cost 0.0337648\n",
      "At step 690, training accuracy 0.909091, cost 14.8957, change in cost 0.0332232\n",
      "At step 700, training accuracy 0.909091, cost 14.863, change in cost 0.0326996\n",
      "Final accuracy on test set 0.9\n"
     ]
    }
   ],
   "source": [
    "#Initialize aux variables\n",
    "cost = 0 #Store the current cost value\n",
    "diff = 1 #Store the diff between the last and the current cost\n",
    "\n",
    "epoch_values = [] #List with the epochs for live graphing\n",
    "accuracy_values = [] #List with the accuracies for live graphing\n",
    "cost_values = [] #List with the costs for live graphing\n",
    "\n",
    "#Feed the Placeholders\n",
    "feed = {x : trainX, yGold : trainY}\n",
    "\n",
    "#Training epochs\n",
    "for i in range(numEpochs):\n",
    "    if(i > 1 and diff < .0001): #Loop until numSteps or convergence\n",
    "        print('Change in cost &g; convergence.' % diff)\n",
    "        break\n",
    "    else:\n",
    "        #Run training single step\n",
    "        step = sess.run(fetches=training_OP,feed_dict=feed)\n",
    "        \n",
    "        #Report occasional stats\n",
    "        if (i % 10 == 0):\n",
    "            #Add current epoch\n",
    "            epoch_values.append(i)\n",
    "            #Generate accuracy stats on train data\n",
    "            train_accuracy,newCost = sess.run(fetches=[accuracy_OP,cost_OP],feed_dict=feed)\n",
    "            #Add accuracy and cost to the lists for live graphing\n",
    "            accuracy_values.append(train_accuracy)\n",
    "            cost_values.append(newCost)\n",
    "            \n",
    "            #Updates aux variables\n",
    "            diff = abs(newCost - cost)\n",
    "            cost = newCost\n",
    "            \n",
    "            #Print smthng\n",
    "            print(\"At step %d, training accuracy %g, cost %g, change in cost %g\" %(i,train_accuracy,newCost,diff))\n",
    "            \n",
    "            \n",
    "#On TEST data?\n",
    "test_accuracy = sess.run(fetches=[accuracy_OP],feed_dict={x : testX, yGold : testY})\n",
    "print('Final accuracy on test set %g' %test_accuracy[0])\n",
    "            \n",
    "        \n",
    "        \n",
    "        \n",
    "        \n",
    "        \n",
    "        \n",
    "        \n",
    "        \n",
    "        \n",
    "        "
   ]
  },
  {
   "cell_type": "markdown",
   "metadata": {},
   "source": [
    "#### See how the cost has behaved with a plot"
   ]
  },
  {
   "cell_type": "code",
   "execution_count": 73,
   "metadata": {},
   "outputs": [
    {
     "data": {
      "image/png": "[encoded data removed]",
      "text/plain": [
       "<matplotlib.figure.Figure at 0x1ff2afa05c0>"
      ]
     },
     "metadata": {},
     "output_type": "display_data"
    }
   ],
   "source": [
    "%matplotlib inline\n",
    "import numpy as np\n",
    "import matplotlib.pyplot as plt\n",
    "plt.plot(cost_values)\n",
    "plt.title('Cost over time')\n",
    "plt.ylabel('Cost')\n",
    "plt.xlabel('Checkpoint step')\n",
    "plt.show()"
   ]
  },
  {
   "cell_type": "markdown",
   "metadata": {},
   "source": [
    "#### See how the acc has behaved with a plot"
   ]
  },
  {
   "cell_type": "code",
   "execution_count": 75,
   "metadata": {},
   "outputs": [
    {
     "data": {
      "image/png": "[encoded data removed]",
      "text/plain": [
       "<matplotlib.figure.Figure at 0x1ff2b852320>"
      ]
     },
     "metadata": {},
     "output_type": "display_data"
    }
   ],
   "source": [
    "%matplotlib inline\n",
    "import numpy as np\n",
    "import matplotlib.pyplot as plt\n",
    "plt.plot(accuracy_values)\n",
    "plt.title('Acc over time')\n",
    "plt.ylabel('Acc')\n",
    "plt.xlabel('Checkpoint step')\n",
    "plt.show()"
   ]
  },
  {
   "cell_type": "code",
   "execution_count": null,
   "metadata": {
    "collapsed": true
   },
   "outputs": [],
   "source": []
  }
 ],
 "metadata": {
  "kernelspec": {
   "display_name": "Python 3",
   "language": "python",
   "name": "python3"
  },
  "language_info": {
   "codemirror_mode": {
    "name": "ipython",
    "version": 3
   },
   "file_extension": ".py",
   "mimetype": "text/x-python",
   "name": "python",
   "nbconvert_exporter": "python",
   "pygments_lexer": "ipython3",
   "version": "3.5.3"
  }
 },
 "nbformat": 4,
 "nbformat_minor": 2
}
