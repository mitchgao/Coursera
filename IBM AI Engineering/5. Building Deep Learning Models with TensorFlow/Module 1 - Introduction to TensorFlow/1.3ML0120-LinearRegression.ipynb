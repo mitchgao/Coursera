{
 "cells": [
  {
   "cell_type": "code",
   "execution_count": 1,
   "metadata": {
    "collapsed": true
   },
   "outputs": [],
   "source": [
    "import tensorflow as tf"
   ]
  },
  {
   "cell_type": "markdown",
   "metadata": {},
   "source": [
    "# Linear Regression\n",
    "\n",
    "The very known equation of a simple linear model is\n",
    "\n",
    "$$Y = a X + b $$\n",
    "\n",
    "Where Y is the dependent variable and X is the independent variable, and **a** and **b** being the parameters we adjust. \n",
    "\n",
    "**a** is known as \"slope\" or \"gradient\" and **b** as \"intercept\"."
   ]
  },
  {
   "cell_type": "code",
   "execution_count": 2,
   "metadata": {
    "collapsed": true
   },
   "outputs": [],
   "source": [
    "import numpy as np\n",
    "import tensorflow as tf\n",
    "import matplotlib.patches as mpatches\n",
    "import matplotlib.pyplot as plt\n",
    "%matplotlib inline\n",
    "\n",
    "plt.rcParams['figure.figsize'] = (10,6)"
   ]
  },
  {
   "cell_type": "markdown",
   "metadata": {},
   "source": [
    "### Let's take an example\n",
    "\n",
    "Let's define an independent variable:"
   ]
  },
  {
   "cell_type": "code",
   "execution_count": 3,
   "metadata": {},
   "outputs": [
    {
     "data": {
      "image/png": "[encoded data removed]",
      "text/plain": [
       "<matplotlib.figure.Figure at 0x2c3ae1a2b00>"
      ]
     },
     "metadata": {},
     "output_type": "display_data"
    }
   ],
   "source": [
    "X = np.arange(0.0,5.0,1.0)\n",
    "\n",
    "a = 1\n",
    "b = 0\n",
    "\n",
    "Y = a*X + b\n",
    "\n",
    "plt.plot(X,Y)\n",
    "plt.ylabel('Dependent Variable')\n",
    "plt.xlabel('Independent Variable')\n",
    "plt.show()"
   ]
  },
  {
   "cell_type": "markdown",
   "metadata": {},
   "source": [
    "**A simple example of a linear function can help us understand the basic mechanism behind TensorFlow\n",
    "\n",
    "For the first par we will generate random data points and define a linear relation, we'll use TensorFlow to adjust and get the right parameters."
   ]
  },
  {
   "cell_type": "code",
   "execution_count": 4,
   "metadata": {},
   "outputs": [
    {
     "name": "stdout",
     "output_type": "stream",
     "text": [
      "Sample from X_data: [ 0.88063675  0.62321651  0.13854299  0.20657083  0.27131119]\n"
     ]
    }
   ],
   "source": [
    "X_data = np.random.rand(100).astype(np.float32)\n",
    "print('Sample from X_data: %s' % X_data[0:5])"
   ]
  },
  {
   "cell_type": "markdown",
   "metadata": {},
   "source": [
    "The equation for the model used in this example is:\n",
    "\n",
    "$$Y = 7 X + 7 $$\n",
    "\n",
    "Just as example, we choose that as our \"generation\" function because we liked it"
   ]
  },
  {
   "cell_type": "code",
   "execution_count": 5,
   "metadata": {},
   "outputs": [
    {
     "name": "stdout",
     "output_type": "stream",
     "text": [
      "Sample from X_data: [ 13.16445732  11.36251545   7.96980095   8.44599533   8.8991785 ]\n"
     ]
    }
   ],
   "source": [
    "y_data = X_data * 7 + 7\n",
    "print('Sample from X_data: %s' % y_data[0:5])"
   ]
  },
  {
   "cell_type": "code",
   "execution_count": 6,
   "metadata": {},
   "outputs": [
    {
     "name": "stdout",
     "output_type": "stream",
     "text": [
      "Sample from y_dat: [ 13.09229014  11.30081227   7.9406763    8.35421045   8.80858822]\n"
     ]
    }
   ],
   "source": [
    "vectorizer = lambda y: y + np.random.normal(loc=0.0,scale=0.1)\n",
    "\n",
    "'''\n",
    "Define a vectorized function which takes a nested sequence of objects or\n",
    "numpy arrays as inputs and returns an single or tuple of numpy array as\n",
    "output.\n",
    "'''\n",
    "y_data = np.vectorize(vectorizer)(y_data) \n",
    "print('Sample from y_dat: %s' % y_data[0:5])\n",
    "\n",
    "#Summary: Take the data originated with the 'real' function and 'change' it a little"
   ]
  },
  {
   "cell_type": "markdown",
   "metadata": {},
   "source": [
    "Here is a sample of data:"
   ]
  },
  {
   "cell_type": "code",
   "execution_count": 7,
   "metadata": {},
   "outputs": [
    {
     "data": {
      "text/plain": [
       "[(0.88063675, 13.092290139420436),\n",
       " (0.62321651, 11.300812271364386),\n",
       " (0.13854299, 7.9406762963278421),\n",
       " (0.20657083, 8.3542104546447682),\n",
       " (0.27131119, 8.8085882238414914)]"
      ]
     },
     "execution_count": 7,
     "metadata": {},
     "output_type": "execute_result"
    }
   ],
   "source": [
    "list(zip(X_data,y_data))[0:5]"
   ]
  },
  {
   "cell_type": "markdown",
   "metadata": {},
   "source": [
    "First, we initialize the variables \"a\" and \"b\" with some random guesses and define the 'objective' linear function"
   ]
  },
  {
   "cell_type": "code",
   "execution_count": 8,
   "metadata": {
    "collapsed": true
   },
   "outputs": [],
   "source": [
    "a = tf.Variable(1.0)\n",
    "b = tf.Variable(0.2)\n",
    "\n",
    "y_pred = a * X_data + b"
   ]
  },
  {
   "cell_type": "markdown",
   "metadata": {},
   "source": [
    "In a linear regression, we minimized the squared error of the equation that we want to adjust minus the target values, so we define de equation to be minimized as **loss**\n",
    "\n",
    "To find loss's value, tf.reduce_mean() is used. This function finds the mean of a multidimensional tensor, and the result can have a diferent dimension."
   ]
  },
  {
   "cell_type": "code",
   "execution_count": 9,
   "metadata": {
    "collapsed": true
   },
   "outputs": [],
   "source": [
    "loss = tf.reduce_mean(tf.square(y_pred - y_data))"
   ]
  },
  {
   "cell_type": "markdown",
   "metadata": {},
   "source": [
    "Then we define the optimizer method. Here we will use a simple gradient descent with learning rate of 0.5\n",
    "\n",
    "Now we will define the training method of our graph. \n",
    "\n",
    "We will use the tf.train.GradientDescentOptimizer.minimize() "
   ]
  },
  {
   "cell_type": "code",
   "execution_count": 10,
   "metadata": {
    "collapsed": true
   },
   "outputs": [],
   "source": [
    "optimizer = tf.train.GradientDescentOptimizer(0.5)\n",
    "train = optimizer.minimize(loss)"
   ]
  },
  {
   "cell_type": "markdown",
   "metadata": {},
   "source": [
    "Now we are ready to start the optimization and run the graph"
   ]
  },
  {
   "cell_type": "code",
   "execution_count": 11,
   "metadata": {},
   "outputs": [
    {
     "name": "stdout",
     "output_type": "stream",
     "text": [
      "At step 10:\n",
      "a 6.26:\n",
      "b 7.42:\n",
      "\n",
      "At step 20:\n",
      "a 6.65:\n",
      "b 7.20:\n",
      "\n",
      "At step 30:\n",
      "a 6.84:\n",
      "b 7.10:\n",
      "\n",
      "At step 40:\n",
      "a 6.94:\n",
      "b 7.04:\n",
      "\n",
      "At step 50:\n",
      "a 6.98:\n",
      "b 7.02:\n",
      "\n",
      "At step 60:\n",
      "a 7.00:\n",
      "b 7.01:\n",
      "\n",
      "At step 70:\n",
      "a 7.01:\n",
      "b 7.00:\n",
      "\n",
      "At step 80:\n",
      "a 7.02:\n",
      "b 7.00:\n",
      "\n",
      "At step 90:\n",
      "a 7.02:\n",
      "b 7.00:\n",
      "\n"
     ]
    }
   ],
   "source": [
    "numSteps = 100\n",
    "train_data = []\n",
    "evals = None\n",
    "\n",
    "with tf.Session() as sess:\n",
    "    tf.global_variables_initializer().run()\n",
    "    \n",
    "    for step in range(numSteps):\n",
    "        evals = sess.run(fetches=[train,a,b]) #fetches is a list, so the returned values 'evals' is also a list\n",
    "        \n",
    "        if (step > 0 and step % 10== 0):\n",
    "            print('At step %d:' %step)\n",
    "            print('a %.2f:' %evals[1])\n",
    "            print('b %.2f:\\n' %evals[2])\n",
    "            \n",
    "        if(step % 10 == 0): #Almacenamos como ha ido yendo la cosa cada x pasos para plotear despues\n",
    "            train_data.append(evals) \n"
   ]
  },
  {
   "cell_type": "markdown",
   "metadata": {},
   "source": [
    "Plot the data"
   ]
  },
  {
   "cell_type": "code",
   "execution_count": 12,
   "metadata": {},
   "outputs": [
    {
     "data": {
      "image/png": "[encoded data removed]",
      "text/plain": [
       "<matplotlib.figure.Figure at 0x2c3ae665d68>"
      ]
     },
     "metadata": {},
     "output_type": "display_data"
    }
   ],
   "source": [
    "converter = plt.colors\n",
    "cr,cg,cb = (1.0, 1.0, 0.0)\n",
    "\n",
    "for f in train_data: #Iterate over the steps\n",
    "    cb += 1.0 / len(train_data)\n",
    "    cg -= 1.0 / len(train_data)\n",
    "    if(cb > 1.0): cb = 1.0\n",
    "    if(cg < 0.0): cg = 0.0\n",
    "        \n",
    "    [_,a,b] = f\n",
    "    f_y = np.vectorize(lambda x: a*x + b)(X_data)\n",
    "    line = plt.plot(X_data,f_y)\n",
    "    plt.setp(line,color=(cr,cg,cb))\n",
    "    \n",
    "plt.plot(X_data,y_data,'ro')\n",
    "\n",
    "green_line = mpatches.Patch(color='red',label='Data Points')\n",
    "\n",
    "plt.legend(handles=[green_line])\n",
    "\n",
    "plt.show()"
   ]
  },
  {
   "cell_type": "code",
   "execution_count": null,
   "metadata": {
    "collapsed": true
   },
   "outputs": [],
   "source": []
  }
 ],
 "metadata": {
  "kernelspec": {
   "display_name": "Python 3",
   "language": "python",
   "name": "python3"
  },
  "language_info": {
   "codemirror_mode": {
    "name": "ipython",
    "version": 3
   },
   "file_extension": ".py",
   "mimetype": "text/x-python",
   "name": "python",
   "nbconvert_exporter": "python",
   "pygments_lexer": "ipython3",
   "version": "3.5.3"
  }
 },
 "nbformat": 4,
 "nbformat_minor": 2
}
