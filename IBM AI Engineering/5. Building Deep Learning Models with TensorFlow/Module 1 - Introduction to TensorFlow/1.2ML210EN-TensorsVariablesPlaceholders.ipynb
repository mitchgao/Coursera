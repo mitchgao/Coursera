{
 "cells": [
  {
   "cell_type": "code",
   "execution_count": 1,
   "metadata": {
    "collapsed": true
   },
   "outputs": [],
   "source": [
    "import tensorflow as tf"
   ]
  },
  {
   "cell_type": "markdown",
   "metadata": {},
   "source": [
    "# Tensor"
   ]
  },
  {
   "cell_type": "markdown",
   "metadata": {},
   "source": [
    "In Tensorflow all data is passed between operations in a computation graph, and these are passed in the form of Tensors\n",
    "\n",
    "The contemporary meaning of Tensor can be take as multidimensional arrays"
   ]
  },
  {
   "cell_type": "markdown",
   "metadata": {},
   "source": [
    "Summarizing:<br><br>\n",
    "<table style=\"width:100%\">\n",
    "  <tr>\n",
    "    <td><b>Dimension</b></td>\n",
    "    <td><b>Physical Representation</b></td> \n",
    "    <td><b>Mathematical Object</b></td>\n",
    "    <td><b>In Code</b></td>\n",
    "  </tr>\n",
    "  \n",
    "  <tr>\n",
    "    <td>Zero </td>\n",
    "    <td>Point</td> \n",
    "    <td>Scalar (Single Number)</td>\n",
    "    <td>[ 1 ]</td>\n",
    "  </tr>\n",
    "\n",
    "  <tr>\n",
    "    <td>One</td>\n",
    "    <td>Line</td> \n",
    "    <td>Vector (Series of Numbers) </td>\n",
    "    <td>[ 1,2,3,4,... ]</td>\n",
    "  </tr>\n",
    "  \n",
    "   <tr>\n",
    "    <td>Two</td>\n",
    "    <td>Surface</td> \n",
    "    <td>Matrix (Table of Numbers)</td>\n",
    "    <td>[ [1,2,3,4,...], [1,2,3,4,...], [1,2,3,4,...],... ]</td>\n",
    "  </tr>\n",
    "  \n",
    "   <tr>\n",
    "    <td>Three</td>\n",
    "    <td>Volume</td> \n",
    "    <td>Tensor (Cube of Numbers)</td>\n",
    "    <td>[ [[1,2,...], [1,2,...], [1,2,...],...], [[1,2,...], [1,2,...], [1,2,...],...], [[1,2,...], [1,2,...], [1,2,...] ,...]... ]</td>\n",
    "  </tr>\n",
    "  \n",
    "</table>"
   ]
  },
  {
   "cell_type": "markdown",
   "metadata": {},
   "source": [
    "## Define multidimensional arrays using TensorFlow"
   ]
  },
  {
   "cell_type": "code",
   "execution_count": 5,
   "metadata": {},
   "outputs": [
    {
     "name": "stdout",
     "output_type": "stream",
     "text": [
      "Scalar (1 entry):\n",
      " [2] \n",
      "\n",
      "Scalar (3 entries):\n",
      " [2 3] \n",
      "\n",
      "Scalar (3x3 entries):\n",
      " [[1 2 3]\n",
      " [4 5 6]\n",
      " [7 8 9]] \n",
      "\n",
      "Scalar (3x3x3 entries):\n",
      " [[[ 1  2  3]\n",
      "  [ 4  5  6]\n",
      "  [ 7  8  9]]\n",
      "\n",
      " [[11 12 13]\n",
      "  [14 15 16]\n",
      "  [17 18 19]]\n",
      "\n",
      " [[21 22 23]\n",
      "  [24 25 26]\n",
      "  [27 28 29]]] \n",
      "\n"
     ]
    }
   ],
   "source": [
    "Scalar = tf.constant([2]) #Like a point\n",
    "Vector = tf.constant([2,3]) #Like a list\n",
    "Matrix = tf.constant([[1,2,3],[4,5,6],[7,8,9]]) #Like a matrix\n",
    "Tensor = tf.constant([[[1,2,3],[4,5,6],[7,8,9]],[[11,12,13],[14,15,16],[17,18,19]],[[21,22,23],[24,25,26],[27,28,29]]]) #A TENSOR\n",
    "\n",
    "with tf.Session() as session:\n",
    "    \n",
    "    result = session.run(Scalar)\n",
    "    print ('Scalar (1 entry):\\n %s \\n' % result)\n",
    "    \n",
    "    result = session.run(Vector)\n",
    "    print ('Scalar (3 entries):\\n %s \\n' % result)\n",
    "    \n",
    "    result = session.run(Matrix)\n",
    "    print ('Scalar (3x3 entries):\\n %s \\n' % result)\n",
    "    \n",
    "    result = session.run(Tensor)\n",
    "    print ('Scalar (3x3x3 entries):\\n %s \\n' % result)\n",
    "    \n",
    "    "
   ]
  },
  {
   "cell_type": "markdown",
   "metadata": {},
   "source": [
    "## Operations with matrix"
   ]
  },
  {
   "cell_type": "markdown",
   "metadata": {},
   "source": [
    "Sum"
   ]
  },
  {
   "cell_type": "code",
   "execution_count": 11,
   "metadata": {},
   "outputs": [
    {
     "name": "stdout",
     "output_type": "stream",
     "text": [
      "Sum of matrix: \n",
      " [[ 6  8]\n",
      " [10 12]]\n"
     ]
    }
   ],
   "source": [
    "matrix1 = tf.constant([[1,2],[3,4]])\n",
    "matrix2 = tf.constant([[5,6],[7,8]])\n",
    "\n",
    "op1 = tf.add(matrix1,matrix2)\n",
    "\n",
    "with tf.Session() as session:\n",
    "    \n",
    "    result = session.run(op1)\n",
    "    print('Sum of matrix: \\n %s' %result)\n",
    "    "
   ]
  },
  {
   "cell_type": "markdown",
   "metadata": {},
   "source": [
    "Product"
   ]
  },
  {
   "cell_type": "code",
   "execution_count": 14,
   "metadata": {},
   "outputs": [
    {
     "name": "stdout",
     "output_type": "stream",
     "text": [
      "Product of matrix: \n",
      " [[19 22]\n",
      " [43 50]]\n"
     ]
    }
   ],
   "source": [
    "matrix1 = tf.constant([[1,2],[3,4]])\n",
    "matrix2 = tf.constant([[5,6],[7,8]])\n",
    "\n",
    "op1 = tf.matmul(matrix1,matrix2)\n",
    "\n",
    "with tf.Session() as session:\n",
    "    \n",
    "    result = session.run(op1)\n",
    "    print('Product of matrix: \\n %s' %result)\n",
    "    "
   ]
  },
  {
   "cell_type": "markdown",
   "metadata": {},
   "source": [
    "## Variables\n",
    "\n",
    "To be able to use variables in a computation graph it is necessary to initialize them before running the graph in a session.\n",
    "\n",
    "To update the value of a variable, we simply run an assign operation that assings a value to the variable"
   ]
  },
  {
   "cell_type": "code",
   "execution_count": 15,
   "metadata": {
    "collapsed": true
   },
   "outputs": [],
   "source": [
    "state = tf.Variable(0)"
   ]
  },
  {
   "cell_type": "markdown",
   "metadata": {},
   "source": [
    "Let's create a simple counter"
   ]
  },
  {
   "cell_type": "code",
   "execution_count": 25,
   "metadata": {},
   "outputs": [],
   "source": [
    "one = tf.constant(1)\n",
    "\n",
    "new_value = tf.add(state,one)\n",
    "\n",
    "update = tf.assign(state,new_value)"
   ]
  },
  {
   "cell_type": "markdown",
   "metadata": {},
   "source": [
    "Start a session:\n",
    "\n",
    "    -> Initialize the variables\n",
    "    \n",
    "    -> Print initial value of **state**\n",
    "    \n",
    "    -> run the operation of updating the **state** variable and print the result after each update"
   ]
  },
  {
   "cell_type": "code",
   "execution_count": 27,
   "metadata": {},
   "outputs": [
    {
     "name": "stdout",
     "output_type": "stream",
     "text": [
      "Initial - State: 0\n",
      "State: 1\n",
      "State: 2\n",
      "State: 3\n"
     ]
    }
   ],
   "source": [
    "with tf.Session() as session:\n",
    "    #Initialize the variables\n",
    "    tf.global_variables_initializer().run()\n",
    "    \n",
    "    print('Initial - State: %d' % session.run(state))\n",
    "    \n",
    "    for _ in range(3):\n",
    "        #Run the operation of updating\n",
    "        session.run(update)\n",
    "        print('State: %d' % session.run(state))"
   ]
  },
  {
   "cell_type": "markdown",
   "metadata": {},
   "source": [
    "## Placeholders\n",
    "\n",
    "To feed data to a Tensorflow model from outside model, placeholders are needed\n",
    "\n",
    "Placeholders can be seen as \"holes\" in the model, \"holes\" which you will pass the data to.\n",
    "\n",
    "Data types:\n",
    "\n",
    "|Data type\t|Python type|Description|\n",
    "| --------- | --------- | --------- |\n",
    "|DT_FLOAT\t|tf.float32\t|32 bits floating point.|\n",
    "|DT_DOUBLE\t|tf.float64\t|64 bits floating point.|\n",
    "|DT_INT8\t|tf.int8\t|8 bits signed integer.|\n",
    "|DT_INT16\t|tf.int16\t|16 bits signed integer.|\n",
    "|DT_INT32\t|tf.int32\t|32 bits signed integer.|\n",
    "|DT_INT64\t|tf.int64\t|64 bits signed integer.|\n",
    "|DT_UINT8\t|tf.uint8\t|8 bits unsigned integer.|\n",
    "|DT_STRING\t|tf.string\t|Variable length byte arrays. Each element of a Tensor is a byte array.|\n",
    "|DT_BOOL\t|tf.bool\t|Boolean.|\n",
    "|DT_COMPLEX64\t|tf.complex64\t|Complex number made of two 32 bits floating points: real and imaginary parts.|\n",
    "|DT_COMPLEX128\t|tf.complex128\t|Complex number made of two 64 bits floating points: real and imaginary parts.|\n",
    "|DT_QINT8\t|tf.qint8\t|8 bits signed integer used in quantized Ops.|\n",
    "|DT_QINT32\t|tf.qint32\t|32 bits signed integer used in quantized Ops.|\n",
    "|DT_QUINT8\t|tf.quint8\t|8 bits unsigned integer used in quantized Ops.|\n",
    "\n",
    "<div style=\"text-align:center\">[[Table Source]](https://www.tensorflow.org/versions/r0.9/resources/dims_types.html)</div>\n"
   ]
  },
  {
   "cell_type": "markdown",
   "metadata": {},
   "source": [
    "Create a placeholder"
   ]
  },
  {
   "cell_type": "code",
   "execution_count": 28,
   "metadata": {
    "collapsed": true
   },
   "outputs": [],
   "source": [
    "a = tf.placeholder(tf.float32)"
   ]
  },
  {
   "cell_type": "markdown",
   "metadata": {},
   "source": [
    "And define an operation"
   ]
  },
  {
   "cell_type": "code",
   "execution_count": 29,
   "metadata": {
    "collapsed": true
   },
   "outputs": [],
   "source": [
    "op = a*2"
   ]
  },
  {
   "cell_type": "markdown",
   "metadata": {},
   "source": [
    "Now define and run the session, buy since we created a \"hole\" in the model to pass the data, when we initialize the session we are obligated to pass an argument with the data, otherwise we would get an error\n",
    "\n",
    "To pass the data to the modelwe can call the session with an extra argument *feed_dict* in which we should pass a dictionary with each placeholder name followed by its respective data"
   ]
  },
  {
   "cell_type": "code",
   "execution_count": 30,
   "metadata": {},
   "outputs": [
    {
     "name": "stdout",
     "output_type": "stream",
     "text": [
      "Result: 7.0\n"
     ]
    }
   ],
   "source": [
    "#feed = {PlaceholderName : Values}\n",
    "feed = {a:3.5}\n",
    "\n",
    "with tf.Session() as session:\n",
    "    \n",
    "    result = session.run(fetches=op,feed_dict=feed)\n",
    "    print('Result: %s' % result)"
   ]
  },
  {
   "cell_type": "markdown",
   "metadata": {},
   "source": [
    "Since data in TensorFlow is passed in form of multidimensional arrays we can pass any kind of Tensor through the placeholders to get the answer to the simple multiplication operation"
   ]
  },
  {
   "cell_type": "code",
   "execution_count": 33,
   "metadata": {},
   "outputs": [
    {
     "name": "stdout",
     "output_type": "stream",
     "text": [
      "Result: \n",
      "[[[  2.   4.   6.]\n",
      "  [  8.  10.  12.]]\n",
      "\n",
      " [[ 14.  16.  18.]\n",
      "  [ 20.  22.  24.]]]\n"
     ]
    }
   ],
   "source": [
    "data = [[[1,2,3],[4,5,6]],[[7,8,9],[10,11,12]]] #2 matrix with shape (3x2)\n",
    "\n",
    "feed = {a:data}\n",
    "\n",
    "with tf.Session() as session:\n",
    "    \n",
    "    result = session.run(fetches=op,feed_dict=feed)\n",
    "    print('Result: \\n%s' % result)"
   ]
  },
  {
   "cell_type": "markdown",
   "metadata": {},
   "source": [
    "## Operations\n",
    "\n",
    "Operations are nodes that represent the mathematical operations over the tensors on a graph. These operations can be any kind of functions, like add and substract tensor or an activation function.\n",
    "\n",
    "<div class=\"alert alert-success alertsuccess\" style=\"margin-top: 20px\">Other operations can be easily found in: https://www.tensorflow.org/versions/r0.9/api_docs/python/index.html</div>"
   ]
  },
  {
   "cell_type": "code",
   "execution_count": 52,
   "metadata": {},
   "outputs": [
    {
     "name": "stdout",
     "output_type": "stream",
     "text": [
      "Add: 7\n",
      "Substract: 3\n",
      "Sigmoid: 0.679179\n"
     ]
    }
   ],
   "source": [
    "a = tf.constant([5])\n",
    "b = tf.constant([2])\n",
    "c = tf.constant(dtype=tf.float32,value=[0.75])\n",
    "\n",
    "op1 = tf.add(a,b)\n",
    "op2 = tf.subtract(a,b)\n",
    "sigmoid = tf.nn.sigmoid(c)\n",
    "\n",
    "with tf.Session() as sess:\n",
    "    \n",
    "    result = sess.run(op1)\n",
    "    print('Add: %d' %result)\n",
    "    \n",
    "    result = sess.run(op2)\n",
    "    print('Substract: %d' %result)\n",
    "    \n",
    "    result = sess.run(sigmoid)\n",
    "    print('Sigmoid: %f' %result)"
   ]
  },
  {
   "cell_type": "markdown",
   "metadata": {},
   "source": [
    "### References\n",
    "\n",
    "https://www.tensorflow.org/versions/r0.9/get_started/index.html<br />\n",
    "http://jrmeyer.github.io/tutorial/2016/02/01/TensorFlow-Tutorial.html<br />\n",
    "https://www.tensorflow.org/versions/r0.9/api_docs/python/index.html<br />\n",
    "https://www.tensorflow.org/versions/r0.9/resources/dims_types.html<br />\n",
    "https://en.wikipedia.org/wiki/Dimension<br />\n",
    "https://book.mql4.com/variables/arrays<br />\n",
    "https://msdn.microsoft.com/en-us/library/windows/desktop/dn424131(v=vs.85).aspx<br />"
   ]
  },
  {
   "cell_type": "code",
   "execution_count": null,
   "metadata": {
    "collapsed": true
   },
   "outputs": [],
   "source": []
  }
 ],
 "metadata": {
  "kernelspec": {
   "display_name": "Python 3",
   "language": "python",
   "name": "python3"
  },
  "language_info": {
   "codemirror_mode": {
    "name": "ipython",
    "version": 3
   },
   "file_extension": ".py",
   "mimetype": "text/x-python",
   "name": "python",
   "nbconvert_exporter": "python",
   "pygments_lexer": "ipython3",
   "version": "3.5.3"
  }
 },
 "nbformat": 4,
 "nbformat_minor": 2
}
