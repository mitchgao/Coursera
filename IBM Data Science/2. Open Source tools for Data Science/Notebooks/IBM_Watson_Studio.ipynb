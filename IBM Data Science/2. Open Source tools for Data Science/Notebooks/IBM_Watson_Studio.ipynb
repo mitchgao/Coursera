{
 "cells": [
  {
   "cell_type": "markdown",
   "metadata": {
    "collapsed": true
   },
   "source": [
    "<h1>My Jupyter Notebook on IBM Data Science Experience</h1>"
   ]
  },
  {
   "cell_type": "markdown",
   "metadata": {},
   "source": [
    "__Mukesh Mithrakumar__\n",
    "\n",
    "Current: Machine Learning Engineer"
   ]
  },
  {
   "cell_type": "markdown",
   "metadata": {},
   "source": [
    "_A Machine Learning Engineer is like a bridge between a Data Scientist and Software Engineer so I am interested in Data Science to improve my skills so I could use it better at work. Besides, a certification from IBM doesn't hurt as well._ 😉"
   ]
  },
  {
   "cell_type": "markdown",
   "metadata": {},
   "source": [
    "<h3>My Code below is going to print \"simplesimple\"</h3>"
   ]
  },
  {
   "cell_type": "code",
   "execution_count": 1,
   "metadata": {},
   "outputs": [
    {
     "name": "stdout",
     "output_type": "stream",
     "text": [
      "simplesimple\n"
     ]
    }
   ],
   "source": [
    "print(\"simple\" * 2)"
   ]
  },
  {
   "cell_type": "markdown",
   "metadata": {},
   "source": [
    "- Horizontal Rule:\n",
    "***\n",
    "\n",
    "- Bulleted list:\n",
    "\n",
    "- Bullet 1\n",
    "- Bullet 2\n",
    "- Bullet 3\n",
    "***\n",
    "\n",
    "Numbered List:\n",
    "\n",
    "1. Number 1\n",
    "2. Number 2\n",
    "3. Number 3\n",
    "***\n",
    "\n",
    "- Tables:\n",
    "\n",
    "|Cool|Table|\n",
    "|----|----|\n",
    "|Just|Random|\n",
    "|Inputs|😎|\n",
    "***\n",
    "\n",
    "- Hyperlink:\n",
    "\n",
    "[This is my blog: AI Blog](https://www.adhiraiyan.org/)\n",
    "***\n",
    "\n",
    "- Images:\n",
    "<img src=\"https://www.adhiraiyan.org/img/BlogLogo.png\">\n",
    "***\n",
    "\n",
    "- Code/Syntax Highlighting:\n",
    "\n",
    "```python\n",
    "print(\"This is How you print\")\n",
    "```\n",
    "***\n",
    "\n",
    "- Blockquotes:\n",
    "\n",
    "> Just\n",
    ">\n",
    "> Random\n",
    ">\n",
    "> Text\n",
    "***\n",
    "\n",
    "- Strikethrough:\n",
    "\n",
    "~~This is it!!!~~\n",
    "***\n"
   ]
  },
  {
   "cell_type": "code",
   "execution_count": null,
   "metadata": {},
   "outputs": [],
   "source": []
  }
 ],
 "metadata": {
  "kernelspec": {
   "display_name": "Python 3.6",
   "language": "python",
   "name": "python3"
  },
  "language_info": {
   "codemirror_mode": {
    "name": "ipython",
    "version": 3
   },
   "file_extension": ".py",
   "mimetype": "text/x-python",
   "name": "python",
   "nbconvert_exporter": "python",
   "pygments_lexer": "ipython3",
   "version": "3.6.8"
  }
 },
 "nbformat": 4,
 "nbformat_minor": 1
}
